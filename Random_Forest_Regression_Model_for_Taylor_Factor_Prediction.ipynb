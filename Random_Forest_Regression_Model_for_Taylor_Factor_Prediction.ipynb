{
  "nbformat": 4,
  "nbformat_minor": 0,
  "metadata": {
    "colab": {
      "provenance": [],
      "mount_file_id": "1pJ4W5LLMZdT6gaI5Exf_zKxzdXBi73w7",
      "authorship_tag": "ABX9TyPyyMzFqr8y16YzZjWb3VnV",
      "include_colab_link": true
    },
    "kernelspec": {
      "name": "python3",
      "display_name": "Python 3"
    },
    "language_info": {
      "name": "python"
    }
  },
  "cells": [
    {
      "cell_type": "markdown",
      "metadata": {
        "id": "view-in-github",
        "colab_type": "text"
      },
      "source": [
        "<a href=\"https://colab.research.google.com/github/shambhavi-d/Misorientation_Modelling_FYP/blob/main/Random_Forest_Regression_Model_for_Taylor_Factor_Prediction.ipynb\" target=\"_parent\"><img src=\"https://colab.research.google.com/assets/colab-badge.svg\" alt=\"Open In Colab\"/></a>"
      ]
    },
    {
      "cell_type": "markdown",
      "source": [
        "###Importing the libraries"
      ],
      "metadata": {
        "id": "HJ6DrlPJNCwW"
      }
    },
    {
      "cell_type": "code",
      "execution_count": null,
      "metadata": {
        "id": "QWIdhqlcE1AY"
      },
      "outputs": [],
      "source": [
        "import numpy as np\n",
        "import matplotlib.pyplot as plt\n",
        "import pandas as pd"
      ]
    },
    {
      "cell_type": "markdown",
      "source": [
        "###Importing the dataset and assigning input and output variables"
      ],
      "metadata": {
        "id": "nULnZJNaNMYX"
      }
    },
    {
      "cell_type": "code",
      "source": [
        "from google.colab import drive\n",
        "drive.mount('/content/drive')"
      ],
      "metadata": {
        "id": "YjD0IOpszWAX",
        "colab": {
          "base_uri": "https://localhost:8080/"
        },
        "outputId": "a80e40e0-28fb-42a0-8773-fe67b0c87956"
      },
      "execution_count": null,
      "outputs": [
        {
          "output_type": "stream",
          "name": "stdout",
          "text": [
            "Mounted at /content/drive\n"
          ]
        }
      ]
    },
    {
      "cell_type": "code",
      "source": [
        "dataset = pd.read_excel(\"/content/drive/MyDrive/Colab Notebooks/all_per_strain.xlsx\")\n",
        "X = dataset.iloc[:, :4].values\n",
        "y = dataset.iloc[:, -1].values"
      ],
      "metadata": {
        "id": "YsmGqZJiG_Su"
      },
      "execution_count": null,
      "outputs": []
    },
    {
      "cell_type": "code",
      "source": [
        "print(X)"
      ],
      "metadata": {
        "id": "IdMnp0YwKrb2",
        "colab": {
          "base_uri": "https://localhost:8080/"
        },
        "outputId": "9b899dc9-00a8-4449-97c1-bcfceb6d7c1e"
      },
      "execution_count": null,
      "outputs": [
        {
          "output_type": "stream",
          "name": "stdout",
          "text": [
            "[[-1.4031e+02  3.6160e+01  6.9800e+01  1.0000e-02]\n",
            " [ 1.6670e+02  2.8660e+01  4.5760e+01  1.0000e-02]\n",
            " [ 1.4975e+02  8.5930e+01  3.8520e+01  1.0000e-02]\n",
            " ...\n",
            " [-1.2843e+02  3.1980e+01  1.4689e+02  2.0000e-01]\n",
            " [ 1.3010e+02  7.9840e+01 -8.4770e+01  2.0000e-01]\n",
            " [-3.8690e+01  6.6180e+01  1.1846e+02  2.0000e-01]]\n"
          ]
        }
      ]
    },
    {
      "cell_type": "code",
      "source": [
        "print(y)"
      ],
      "metadata": {
        "id": "fC017hkmK2Se",
        "colab": {
          "base_uri": "https://localhost:8080/"
        },
        "outputId": "06614b0e-6d4b-43a0-9821-0d0a5a02fdbe"
      },
      "execution_count": null,
      "outputs": [
        {
          "output_type": "stream",
          "name": "stdout",
          "text": [
            "[2.572 2.519 2.567 ... 2.561 2.113 2.723]\n"
          ]
        }
      ]
    },
    {
      "cell_type": "markdown",
      "source": [
        "###Splitting the dataset into training set and test set"
      ],
      "metadata": {
        "id": "td4s7qFLNjVJ"
      }
    },
    {
      "cell_type": "code",
      "source": [
        "from sklearn.model_selection import train_test_split\n",
        "X_train, X_test, y_train, y_test = train_test_split(X, y, test_size = 0.3, random_state = 1)"
      ],
      "metadata": {
        "id": "mYnjrOf7twAm"
      },
      "execution_count": null,
      "outputs": []
    },
    {
      "cell_type": "markdown",
      "source": [
        "###Training the Random Forest Regression Model on the training set"
      ],
      "metadata": {
        "id": "ijqVHfX3OLPn"
      }
    },
    {
      "cell_type": "code",
      "source": [
        "from sklearn.ensemble import RandomForestRegressor\n",
        "regressor = RandomForestRegressor(n_estimators = 25, random_state = 20)\n",
        "regressor.fit(X_train, y_train)"
      ],
      "metadata": {
        "id": "VtTb9R2VYUHx",
        "colab": {
          "base_uri": "https://localhost:8080/"
        },
        "outputId": "45b17797-5478-4187-b457-2d858b102a4a"
      },
      "execution_count": null,
      "outputs": [
        {
          "output_type": "execute_result",
          "data": {
            "text/plain": [
              "RandomForestRegressor(n_estimators=25, random_state=20)"
            ]
          },
          "metadata": {},
          "execution_count": 7
        }
      ]
    },
    {
      "cell_type": "markdown",
      "source": [
        "###Predicting results on the test set"
      ],
      "metadata": {
        "id": "o9g2wqCyOZ8O"
      }
    },
    {
      "cell_type": "code",
      "source": [
        "y_pred = regressor.predict(X_test)"
      ],
      "metadata": {
        "id": "saWmSrAAtlJS"
      },
      "execution_count": null,
      "outputs": []
    },
    {
      "cell_type": "code",
      "source": [
        "np.set_printoptions(precision=2)\n",
        "print(np.concatenate((y_pred.reshape(len(y_pred),1), y_test.reshape(len(y_test),1)),1))"
      ],
      "metadata": {
        "id": "XY5SaBIQo3b7",
        "colab": {
          "base_uri": "https://localhost:8080/"
        },
        "outputId": "54f80b0d-b5f5-4ab2-daff-a5ac41e7fc92"
      },
      "execution_count": null,
      "outputs": [
        {
          "output_type": "stream",
          "name": "stdout",
          "text": [
            "[[2.12 2.12]\n",
            " [3.03 3.1 ]\n",
            " [2.58 2.6 ]\n",
            " ...\n",
            " [2.59 2.61]\n",
            " [2.16 2.13]\n",
            " [2.44 2.44]]\n"
          ]
        }
      ]
    },
    {
      "cell_type": "markdown",
      "source": [
        "###Plotting the graph of Predicted vs Test results"
      ],
      "metadata": {
        "id": "CfVv3hP4OmKF"
      }
    },
    {
      "cell_type": "code",
      "source": [
        "from matplotlib import pyplot as plt\n",
        "plt.plot(y_test, y_pred, 'o')\n",
        "plt.xlim([2.0, 3.2])\n",
        "plt.ylim([2.0, 3.2])\n",
        "plt.xlabel(\"Test Value\")\n",
        "plt.ylabel(\"Predicted Value\")\n",
        "plt.gcf().set_size_inches((7, 7))\n",
        "ax = plt.gca()\n",
        "ax.set_aspect(1)\n",
        "plt.show()"
      ],
      "metadata": {
        "id": "N7cF8-g1XtBp",
        "colab": {
          "base_uri": "https://localhost:8080/",
          "height": 446
        },
        "outputId": "a9f4cdbe-a9af-4c0c-ab9a-3d906cb3b6a4"
      },
      "execution_count": null,
      "outputs": [
        {
          "output_type": "display_data",
          "data": {
            "text/plain": [
              "<Figure size 504x504 with 1 Axes>"
            ],
            "image/png": "[encoded data removed]"
          },
          "metadata": {
            "needs_background": "light"
          }
        }
      ]
    },
    {
      "cell_type": "markdown",
      "source": [
        "### Assessing fit of the regression model"
      ],
      "metadata": {
        "id": "t4V5H4zl4ujP"
      }
    },
    {
      "cell_type": "code",
      "source": [
        "from sklearn.metrics import r2_score\n",
        "r2_score(y_test, y_pred)"
      ],
      "metadata": {
        "id": "S9agR76udsqg",
        "colab": {
          "base_uri": "https://localhost:8080/"
        },
        "outputId": "1a8dac44-48af-466e-e141-83318d135a06"
      },
      "execution_count": null,
      "outputs": [
        {
          "output_type": "execute_result",
          "data": {
            "text/plain": [
              "0.9920594002636449"
            ]
          },
          "metadata": {},
          "execution_count": 16
        }
      ]
    },
    {
      "cell_type": "code",
      "source": [
        "from sklearn.metrics import mean_squared_error\n",
        "errors = mean_squared_error(y_test, y_pred, squared=False)\n",
        "print(errors)"
      ],
      "metadata": {
        "id": "PgMJVWuKthX6",
        "colab": {
          "base_uri": "https://localhost:8080/"
        },
        "outputId": "9a8031fa-52dc-4285-9ffb-cec0fa2b1d86"
      },
      "execution_count": null,
      "outputs": [
        {
          "output_type": "stream",
          "name": "stdout",
          "text": [
            "0.028147418009867666\n"
          ]
        }
      ]
    }
  ]
}